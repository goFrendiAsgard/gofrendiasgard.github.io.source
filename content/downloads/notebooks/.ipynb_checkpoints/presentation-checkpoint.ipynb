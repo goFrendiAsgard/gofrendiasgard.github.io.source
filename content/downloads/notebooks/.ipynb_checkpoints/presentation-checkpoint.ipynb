{
 "metadata": {
  "name": "",
  "signature": "sha256:4068f2ce0f21dcdd6fe209e512db86676fe5951d693010ecb96bc5bf0b46067f"
 },
 "nbformat": 3,
 "nbformat_minor": 0,
 "worksheets": [
  {
   "cells": [
    {
     "cell_type": "markdown",
     "metadata": {},
     "source": [
      "Everyone know that IPython Notebook is very cool. It allows you to write some text in Markdown & $L_AT_EX$ format beautifully next to your code, next to the output of the code. All in one page.\n",
      "\n",
      "It will be even cooler if we can do presentation by using IPython Notebook? But is it even possible?\n",
      "Yes it is possible. Today I'll show you how.\n",
      "\n",
      "First of all, if you are using ubuntu 14.04 or below like I do, and you install IPython through synaptic or apt (`sudo apt-get install ipython ipython-notebook`), then you must end up with IPython 1.2.1. This is not a very good news, since the current newest stable version of IPython is 2.x. Therefore you need to upgrade.\n",
      "\n",
      "The easiest way to upgrade your IPython is by adding this repository: (https://launchpad.net/~jtaylor/+archive/ubuntu/ipython)[https://launchpad.net/~jtaylor/+archive/ubuntu/ipython]\n",
      "\n",
      "Ubuntu 14.04 doesn't come up with synaptic package manager. I prefer to use synaptic, so I do this:\n",
      "\n",
      "```\n",
      "sudo apt-get install synaptic\n",
      "```\n",
      "\n",
      "After installing synaptic, you can launch it (using unity dashboard, you can just type synaptic in search bar) and click `Settings | Repositories`. A new pop up window will be appeared. Choose `Other Software` and add this:\n",
      "\n",
      "```\n",
      "ppa:jtaylor/ipython\n",
      "```\n",
      "\n",
      "This will add `IPython` repository managed by `jtaylor` which is newer than official ubuntu version.\n",
      "\n",
      "Now you can update `ipython`, `ipython-common`, and `ipython-notebook` from the synaptic, or simply type this in your shell prompt:\n",
      "\n",
      "```\n",
      "sudo apt-get upgrade ipython ipython-common ipython-notebook\n",
      "```\n",
      "\n",
      "Cool, now you have the newer stable version of IPython. Type `ipython notebook` and notice that several things has been changed.\n",
      "\n",
      "Now, let's add presentation mode to IPython.\n",
      "\n",
      "The first step is you need to know where is your IPython configuration directory. Type this in your notebook."
     ]
    },
    {
     "cell_type": "code",
     "collapsed": false,
     "input": [
      "profile_dir = get_ipython().profile_dir.location\n",
      "profile_dir"
     ],
     "language": "python",
     "metadata": {
      "slideshow": {
       "slide_type": "-"
      }
     },
     "outputs": [
      {
       "metadata": {},
       "output_type": "pyout",
       "prompt_number": 1,
       "text": [
        "u'/home/gofrendi/.ipython/profile_default'"
       ]
      }
     ],
     "prompt_number": 1
    },
    {
     "cell_type": "markdown",
     "metadata": {},
     "source": [
      "After knowing your configuration directory, now you need to clone ipython-notebook-extensions from github and put it on `static/custom` inside your configuration directory.\n",
      "\n",
      "To do this, first backup the existing `static/custom` directory, then do `git-clone` and checkout to `2.x` branch as follow:\n",
      "\n",
      "__Note:__ We need to checkout to 2.x branch since we use IPython 2.1 from the repository we have installed earlier."
     ]
    },
    {
     "cell_type": "code",
     "collapsed": false,
     "input": [
      "import os\n",
      "tgt = os.path.join( profile_dir, 'static', 'custom')\n",
      "!git clone https://github.com/ipython-contrib/IPython-notebook-extensions.git $tgt\n",
      "!git checkout 2.x"
     ],
     "language": "python",
     "metadata": {
      "slideshow": {
       "slide_type": "-"
      }
     },
     "outputs": [
      {
       "output_type": "stream",
       "stream": "stdout",
       "text": [
        "Cloning into '/home/gofrendi/.ipython/profile_default/static/custom'...\r\n"
       ]
      },
      {
       "output_type": "stream",
       "stream": "stdout",
       "text": [
        "remote: Counting objects: 1390, done.\u001b[K\r\n"
       ]
      },
      {
       "output_type": "stream",
       "stream": "stdout",
       "text": [
        "Receiving objects:   0% (1/1390)   \r",
        "Receiving objects:   1% (14/1390)   \r",
        "Receiving objects:   2% (28/1390)   \r"
       ]
      },
      {
       "output_type": "stream",
       "stream": "stdout",
       "text": [
        "Receiving objects:   3% (42/1390)   \r",
        "Receiving objects:   4% (56/1390)   \r",
        "Receiving objects:   5% (70/1390)   \r"
       ]
      },
      {
       "output_type": "stream",
       "stream": "stdout",
       "text": [
        "Receiving objects:   6% (84/1390)   \r",
        "Receiving objects:   7% (98/1390)   \r",
        "Receiving objects:   8% (112/1390)   \r"
       ]
      },
      {
       "output_type": "stream",
       "stream": "stdout",
       "text": [
        "Receiving objects:   9% (126/1390)   \r",
        "Receiving objects:  10% (139/1390)   \r",
        "Receiving objects:  11% (153/1390)   \r"
       ]
      },
      {
       "output_type": "stream",
       "stream": "stdout",
       "text": [
        "Receiving objects:  12% (167/1390)   \r",
        "Receiving objects:  13% (181/1390)   \r",
        "Receiving objects:  14% (195/1390)   \r"
       ]
      },
      {
       "output_type": "stream",
       "stream": "stdout",
       "text": [
        "Receiving objects:  15% (209/1390)   \r",
        "Receiving objects:  16% (223/1390)   \r",
        "Receiving objects:  17% (237/1390)   \r"
       ]
      },
      {
       "output_type": "stream",
       "stream": "stdout",
       "text": [
        "Receiving objects:  18% (251/1390), 52.00 KiB | 82.00 KiB/s   \r",
        "Receiving objects:  19% (265/1390), 52.00 KiB | 82.00 KiB/s   \r",
        "Receiving objects:  20% (278/1390), 52.00 KiB | 82.00 KiB/s   \r"
       ]
      },
      {
       "output_type": "stream",
       "stream": "stdout",
       "text": [
        "Receiving objects:  21% (292/1390), 52.00 KiB | 82.00 KiB/s   \r",
        "Receiving objects:  22% (306/1390), 52.00 KiB | 82.00 KiB/s   \r",
        "Receiving objects:  23% (320/1390), 52.00 KiB | 82.00 KiB/s   \r"
       ]
      },
      {
       "output_type": "stream",
       "stream": "stdout",
       "text": [
        "Receiving objects:  24% (334/1390), 52.00 KiB | 82.00 KiB/s   \r",
        "Receiving objects:  25% (348/1390), 52.00 KiB | 82.00 KiB/s   \r",
        "Receiving objects:  26% (362/1390), 52.00 KiB | 82.00 KiB/s   \r"
       ]
      },
      {
       "output_type": "stream",
       "stream": "stdout",
       "text": [
        "Receiving objects:  27% (376/1390), 52.00 KiB | 82.00 KiB/s   \r"
       ]
      },
      {
       "output_type": "stream",
       "stream": "stdout",
       "text": [
        "Receiving objects:  28% (390/1390), 52.00 KiB | 82.00 KiB/s   \r",
        "Receiving objects:  29% (404/1390), 52.00 KiB | 82.00 KiB/s   \r"
       ]
      },
      {
       "output_type": "stream",
       "stream": "stdout",
       "text": [
        "Receiving objects:  29% (404/1390), 132.00 KiB | 114.00 KiB/s   \r"
       ]
      },
      {
       "output_type": "stream",
       "stream": "stdout",
       "text": [
        "Receiving objects:  29% (411/1390), 292.00 KiB | 132.00 KiB/s   \r"
       ]
      },
      {
       "output_type": "stream",
       "stream": "stdout",
       "text": [
        "Receiving objects:  29% (412/1390), 372.00 KiB | 135.00 KiB/s   \r"
       ]
      },
      {
       "output_type": "stream",
       "stream": "stdout",
       "text": [
        "Receiving objects:  29% (412/1390), 612.00 KiB | 141.00 KiB/s   \r"
       ]
      },
      {
       "output_type": "stream",
       "stream": "stdout",
       "text": [
        "Receiving objects:  29% (412/1390), 772.00 KiB | 135.00 KiB/s   \r"
       ]
      },
      {
       "output_type": "stream",
       "stream": "stdout",
       "text": [
        "Receiving objects:  29% (413/1390), 772.00 KiB | 135.00 KiB/s   \r"
       ]
      },
      {
       "output_type": "stream",
       "stream": "stdout",
       "text": [
        "Receiving objects:  29% (413/1390), 1.07 MiB | 151.00 KiB/s   \r"
       ]
      },
      {
       "output_type": "stream",
       "stream": "stdout",
       "text": [
        "Receiving objects:  29% (413/1390), 1.08 MiB | 136.00 KiB/s   \r"
       ]
      },
      {
       "output_type": "stream",
       "stream": "stdout",
       "text": [
        "Receiving objects:  29% (414/1390), 1.32 MiB | 151.00 KiB/s   \r"
       ]
      },
      {
       "output_type": "stream",
       "stream": "stdout",
       "text": [
        "Receiving objects:  29% (415/1390), 1.46 MiB | 149.00 KiB/s   \r"
       ]
      },
      {
       "output_type": "stream",
       "stream": "stdout",
       "text": [
        "Receiving objects:  29% (416/1390), 1.55 MiB | 167.00 KiB/s   \r"
       ]
      },
      {
       "output_type": "stream",
       "stream": "stdout",
       "text": [
        "Receiving objects:  29% (416/1390), 1.79 MiB | 151.00 KiB/s   \r"
       ]
      },
      {
       "output_type": "stream",
       "stream": "stdout",
       "text": [
        "Receiving objects:  30% (417/1390), 1.79 MiB | 151.00 KiB/s   \r"
       ]
      },
      {
       "output_type": "stream",
       "stream": "stdout",
       "text": [
        "Receiving objects:  30% (418/1390), 1.86 MiB | 165.00 KiB/s   \r"
       ]
      },
      {
       "output_type": "stream",
       "stream": "stdout",
       "text": [
        "Receiving objects:  30% (419/1390), 2.09 MiB | 150.00 KiB/s   \r"
       ]
      },
      {
       "output_type": "stream",
       "stream": "stdout",
       "text": [
        "Receiving objects:  30% (419/1390), 2.12 MiB | 135.00 KiB/s   \r",
        "Receiving objects:  31% (431/1390), 2.12 MiB | 135.00 KiB/s   \r",
        "Receiving objects:  32% (445/1390), 2.12 MiB | 135.00 KiB/s   \r"
       ]
      },
      {
       "output_type": "stream",
       "stream": "stdout",
       "text": [
        "Receiving objects:  33% (459/1390), 2.12 MiB | 135.00 KiB/s   \r",
        "Receiving objects:  34% (473/1390), 2.12 MiB | 135.00 KiB/s   \r"
       ]
      },
      {
       "output_type": "stream",
       "stream": "stdout",
       "text": [
        "Receiving objects:  35% (487/1390), 2.12 MiB | 135.00 KiB/s   \r",
        "Receiving objects:  36% (501/1390), 2.12 MiB | 135.00 KiB/s   \r"
       ]
      },
      {
       "output_type": "stream",
       "stream": "stdout",
       "text": [
        "Receiving objects:  37% (515/1390), 2.12 MiB | 135.00 KiB/s   \r"
       ]
      },
      {
       "output_type": "stream",
       "stream": "stdout",
       "text": [
        "Receiving objects:  37% (525/1390), 2.29 MiB | 151.00 KiB/s   \r"
       ]
      },
      {
       "output_type": "stream",
       "stream": "stdout",
       "text": [
        "Receiving objects:  37% (526/1390), 2.53 MiB | 153.00 KiB/s   \r"
       ]
      },
      {
       "output_type": "stream",
       "stream": "stdout",
       "text": [
        "Receiving objects:  37% (528/1390), 2.62 MiB | 140.00 KiB/s   \r",
        "Receiving objects:  38% (529/1390), 2.62 MiB | 140.00 KiB/s   \r"
       ]
      },
      {
       "output_type": "stream",
       "stream": "stdout",
       "text": [
        "Receiving objects:  38% (535/1390), 2.78 MiB | 156.00 KiB/s   \r"
       ]
      },
      {
       "output_type": "stream",
       "stream": "stdout",
       "text": [
        "Receiving objects:  39% (543/1390), 2.86 MiB | 156.00 KiB/s   \r",
        "Receiving objects:  40% (556/1390), 2.86 MiB | 156.00 KiB/s   \r"
       ]
      },
      {
       "output_type": "stream",
       "stream": "stdout",
       "text": [
        "Receiving objects:  41% (570/1390), 2.93 MiB | 175.00 KiB/s   \r",
        "Receiving objects:  42% (584/1390), 2.93 MiB | 175.00 KiB/s   \r"
       ]
      },
      {
       "output_type": "stream",
       "stream": "stdout",
       "text": [
        "Receiving objects:  42% (597/1390), 2.93 MiB | 175.00 KiB/s   \r",
        "Receiving objects:  43% (598/1390), 2.93 MiB | 175.00 KiB/s   \r",
        "Receiving objects:  44% (612/1390), 2.93 MiB | 175.00 KiB/s   \r",
        "Receiving objects:  45% (626/1390), 2.93 MiB | 175.00 KiB/s   \r",
        "Receiving objects:  46% (640/1390), 2.93 MiB | 175.00 KiB/s   \r",
        "Receiving objects:  47% (654/1390), 2.93 MiB | 175.00 KiB/s   \r",
        "Receiving objects:  48% (668/1390), 2.93 MiB | 175.00 KiB/s   \r",
        "Receiving objects:  49% (682/1390), 2.93 MiB | 175.00 KiB/s   \r",
        "Receiving objects:  50% (695/1390), 2.93 MiB | 175.00 KiB/s   \r",
        "Receiving objects:  51% (709/1390), 2.93 MiB | 175.00 KiB/s   \r"
       ]
      },
      {
       "output_type": "stream",
       "stream": "stdout",
       "text": [
        "Receiving objects:  52% (723/1390), 2.93 MiB | 175.00 KiB/s   \r",
        "Receiving objects:  53% (737/1390), 2.93 MiB | 175.00 KiB/s   \r",
        "Receiving objects:  54% (751/1390), 2.93 MiB | 175.00 KiB/s   \r",
        "Receiving objects:  55% (765/1390), 2.93 MiB | 175.00 KiB/s   \r",
        "Receiving objects:  56% (779/1390), 2.93 MiB | 175.00 KiB/s   \r",
        "Receiving objects:  57% (793/1390), 2.93 MiB | 175.00 KiB/s   \r",
        "Receiving objects:  58% (807/1390), 2.93 MiB | 175.00 KiB/s   \r"
       ]
      },
      {
       "output_type": "stream",
       "stream": "stdout",
       "text": [
        "Receiving objects:  59% (821/1390), 2.93 MiB | 175.00 KiB/s   \r",
        "Receiving objects:  60% (834/1390), 2.93 MiB | 175.00 KiB/s   \r",
        "Receiving objects:  61% (848/1390), 2.93 MiB | 175.00 KiB/s   \r",
        "Receiving objects:  62% (862/1390), 2.93 MiB | 175.00 KiB/s   \r",
        "Receiving objects:  63% (876/1390), 2.93 MiB | 175.00 KiB/s   \r",
        "Receiving objects:  64% (890/1390), 2.93 MiB | 175.00 KiB/s   \r",
        "Receiving objects:  65% (904/1390), 2.93 MiB | 175.00 KiB/s   \r"
       ]
      },
      {
       "output_type": "stream",
       "stream": "stdout",
       "text": [
        "Receiving objects:  66% (918/1390), 3.01 MiB | 156.00 KiB/s   \r",
        "Receiving objects:  67% (932/1390), 3.01 MiB | 156.00 KiB/s   \r",
        "Receiving objects:  68% (946/1390), 3.01 MiB | 156.00 KiB/s   \r"
       ]
      },
      {
       "output_type": "stream",
       "stream": "stdout",
       "text": [
        "Receiving objects:  69% (960/1390), 3.01 MiB | 156.00 KiB/s   \r"
       ]
      },
      {
       "output_type": "stream",
       "stream": "stdout",
       "text": [
        "Receiving objects:  70% (973/1390), 3.01 MiB | 156.00 KiB/s   \r",
        "Receiving objects:  71% (987/1390), 3.01 MiB | 156.00 KiB/s   \r",
        "Receiving objects:  72% (1001/1390), 3.01 MiB | 156.00 KiB/s   \r",
        "Receiving objects:  73% (1015/1390), 3.01 MiB | 156.00 KiB/s   \r",
        "Receiving objects:  74% (1029/1390), 3.01 MiB | 156.00 KiB/s   \r",
        "Receiving objects:  75% (1043/1390), 3.01 MiB | 156.00 KiB/s   \r"
       ]
      },
      {
       "output_type": "stream",
       "stream": "stdout",
       "text": [
        "Receiving objects:  76% (1057/1390), 3.01 MiB | 156.00 KiB/s   \r",
        "Receiving objects:  77% (1071/1390), 3.01 MiB | 156.00 KiB/s   \r",
        "Receiving objects:  78% (1085/1390), 3.01 MiB | 156.00 KiB/s   \r",
        "Receiving objects:  79% (1099/1390), 3.01 MiB | 156.00 KiB/s   \r",
        "Receiving objects:  80% (1112/1390), 3.01 MiB | 156.00 KiB/s   \r",
        "Receiving objects:  81% (1126/1390), 3.01 MiB | 156.00 KiB/s   \r",
        "Receiving objects:  82% (1140/1390), 3.01 MiB | 156.00 KiB/s   \r"
       ]
      },
      {
       "output_type": "stream",
       "stream": "stdout",
       "text": [
        "Receiving objects:  83% (1154/1390), 3.01 MiB | 156.00 KiB/s   \r",
        "Receiving objects:  84% (1168/1390), 3.01 MiB | 156.00 KiB/s   \r",
        "Receiving objects:  85% (1182/1390), 3.01 MiB | 156.00 KiB/s   \r"
       ]
      },
      {
       "output_type": "stream",
       "stream": "stdout",
       "text": [
        "Receiving objects:  85% (1190/1390), 3.11 MiB | 159.00 KiB/s   \r",
        "Receiving objects:  86% (1196/1390), 3.11 MiB | 159.00 KiB/s   \r",
        "Receiving objects:  87% (1210/1390), 3.11 MiB | 159.00 KiB/s   \r",
        "Receiving objects:  88% (1224/1390), 3.11 MiB | 159.00 KiB/s   \r",
        "Receiving objects:  89% (1238/1390), 3.11 MiB | 159.00 KiB/s   \r"
       ]
      },
      {
       "output_type": "stream",
       "stream": "stdout",
       "text": [
        "Receiving objects:  90% (1251/1390), 3.11 MiB | 159.00 KiB/s   \r",
        "Receiving objects:  91% (1265/1390), 3.11 MiB | 159.00 KiB/s   \r"
       ]
      },
      {
       "output_type": "stream",
       "stream": "stdout",
       "text": [
        "Receiving objects:  92% (1279/1390), 3.11 MiB | 159.00 KiB/s   \r",
        "Receiving objects:  93% (1293/1390), 3.11 MiB | 159.00 KiB/s   \r",
        "Receiving objects:  94% (1307/1390), 3.11 MiB | 159.00 KiB/s   \r",
        "Receiving objects:  95% (1321/1390), 3.11 MiB | 159.00 KiB/s   \r"
       ]
      },
      {
       "output_type": "stream",
       "stream": "stdout",
       "text": [
        "remote: Total 1390 (delta 0), reused 0 (delta 0)\u001b[K\r\n",
        "Receiving objects:  96% (1335/1390), 3.11 MiB | 159.00 KiB/s   \r",
        "Receiving objects:  97% (1349/1390), 3.11 MiB | 159.00 KiB/s   \r",
        "Receiving objects:  98% (1363/1390), 3.11 MiB | 159.00 KiB/s   \r",
        "Receiving objects:  99% (1377/1390), 3.11 MiB | 159.00 KiB/s   \r",
        "Receiving objects: 100% (1390/1390), 3.11 MiB | 159.00 KiB/s   \r",
        "Receiving objects: 100% (1390/1390), 3.13 MiB | 159.00 KiB/s, done.\r\n"
       ]
      },
      {
       "output_type": "stream",
       "stream": "stdout",
       "text": [
        "Resolving deltas:   0% (0/701)   \r",
        "Resolving deltas:   1% (12/701)   \r",
        "Resolving deltas:   2% (19/701)   \r",
        "Resolving deltas:   3% (25/701)   \r",
        "Resolving deltas:   4% (30/701)   \r",
        "Resolving deltas:  11% (83/701)   \r",
        "Resolving deltas:  12% (88/701)   \r",
        "Resolving deltas:  13% (95/701)   \r",
        "Resolving deltas:  14% (99/701)   \r",
        "Resolving deltas:  15% (112/701)   \r",
        "Resolving deltas:  16% (114/701)   \r",
        "Resolving deltas:  17% (121/701)   \r",
        "Resolving deltas:  18% (127/701)   \r",
        "Resolving deltas:  19% (134/701)   \r",
        "Resolving deltas:  23% (163/701)   \r",
        "Resolving deltas:  24% (170/701)   \r",
        "Resolving deltas:  26% (189/701)   \r",
        "Resolving deltas:  31% (221/701)   \r",
        "Resolving deltas:  32% (226/701)   \r",
        "Resolving deltas:  33% (238/701)   \r",
        "Resolving deltas:  35% (252/701)   \r",
        "Resolving deltas:  36% (253/701)   \r",
        "Resolving deltas:  37% (260/701)   \r",
        "Resolving deltas:  38% (269/701)   \r",
        "Resolving deltas:  39% (275/701)   \r",
        "Resolving deltas:  40% (284/701)   \r",
        "Resolving deltas:  41% (289/701)   \r",
        "Resolving deltas:  42% (296/701)   \r",
        "Resolving deltas:  43% (305/701)   \r",
        "Resolving deltas:  44% (314/701)   \r",
        "Resolving deltas:  46% (325/701)   \r",
        "Resolving deltas:  48% (337/701)   \r",
        "Resolving deltas:  50% (356/701)   \r",
        "Resolving deltas:  51% (358/701)   \r",
        "Resolving deltas:  52% (369/701)   \r",
        "Resolving deltas:  54% (380/701)   \r",
        "Resolving deltas:  55% (387/701)   \r",
        "Resolving deltas:  56% (394/701)   \r",
        "Resolving deltas:  57% (400/701)   \r",
        "Resolving deltas:  62% (436/701)   \r",
        "Resolving deltas:  63% (447/701)   \r",
        "Resolving deltas:  64% (450/701)   \r",
        "Resolving deltas:  66% (465/701)   \r",
        "Resolving deltas:  69% (484/701)   \r",
        "Resolving deltas:  70% (491/701)   \r",
        "Resolving deltas:  71% (499/701)   \r",
        "Resolving deltas:  72% (507/701)   \r",
        "Resolving deltas:  73% (516/701)   \r",
        "Resolving deltas:  75% (528/701)   \r",
        "Resolving deltas:  76% (534/701)   \r",
        "Resolving deltas:  78% (547/701)   \r",
        "Resolving deltas:  81% (574/701)   \r",
        "Resolving deltas:  83% (587/701)   \r",
        "Resolving deltas:  85% (598/701)   \r",
        "Resolving deltas:  88% (617/701)   \r",
        "Resolving deltas:  89% (625/701)   \r",
        "Resolving deltas:  91% (639/701)   \r",
        "Resolving deltas:  92% (649/701)   \r",
        "Resolving deltas:  93% (657/701)   \r",
        "Resolving deltas:  94% (661/701)   \r",
        "Resolving deltas:  95% (666/701)   \r",
        "Resolving deltas:  96% (676/701)   \r",
        "Resolving deltas:  97% (683/701)   \r",
        "Resolving deltas:  98% (688/701)   \r",
        "Resolving deltas:  99% (696/701)   \r",
        "Resolving deltas: 100% (701/701)   \r",
        "Resolving deltas: 100% (701/701), done.\r\n"
       ]
      },
      {
       "output_type": "stream",
       "stream": "stdout",
       "text": [
        "Checking connectivity... done.\r\n"
       ]
      }
     ],
     "prompt_number": 3
    },
    {
     "cell_type": "markdown",
     "metadata": {},
     "source": [
      "After cloning completed, you should have several files and folders inside `/static/custom`"
     ]
    },
    {
     "cell_type": "code",
     "collapsed": false,
     "input": [
      "%cd $tgt\n",
      "!ls"
     ],
     "language": "python",
     "metadata": {
      "slideshow": {
       "slide_type": "-"
      }
     },
     "outputs": [
      {
       "output_type": "stream",
       "stream": "stdout",
       "text": [
        "/home/gofrendi/.ipython/profile_default/static/custom\n",
        "COPYING.rst\t   publishing  slidemode  testing    wiki-images\r\n",
        "custom.example.js  README.md   styling\t  usability\r\n"
       ]
      }
     ],
     "prompt_number": 4
    },
    {
     "cell_type": "markdown",
     "metadata": {},
     "source": [
      "Now, you need to make a new `custom.js`. Run this script and it is done."
     ]
    },
    {
     "cell_type": "code",
     "collapsed": false,
     "input": [
      "%%writefile custom.js\n",
      "// we want strict javascript that fails\n",
      "// on ambiguous syntax\n",
      "\"using strict\";\n",
      "\n",
      "// do not use notebook loaded  event as it is re-triggerd on\n",
      "// revert to checkpoint but this allow extesnsion to be loaded\n",
      "// late enough to work.\n",
      "//\n",
      "\n",
      "$([IPython.events]).on('app_initialized.NotebookApp', function(){\n",
      "\n",
      "\n",
      "    /**  Use path to js file relative to /static/ dir without leading slash, or\n",
      "     *  js extension.\n",
      "     *  Link directly to file is js extension.\n",
      "     *\n",
      "     *  first argument of require is a **list** that can contains several modules if needed.\n",
      "     **/\n",
      "\n",
      "    // require(['custom/noscroll']);\n",
      "    // require(['custom/clean_start'])\n",
      "    // require(['custom/toggle_all_line_number'])\n",
      "    // require(['custom/gist_it']);\n",
      "\n",
      "    /**\n",
      "     *  Link to entrypoint if extesnsion is a folder.\n",
      "     *  to be consistent with commonjs module, the entrypoint is main.js\n",
      "     *  here youcan also trigger a custom function on load that will do extra\n",
      "     *  action with the module if needed\n",
      "     **/\n",
      "     require(['custom/slidemode/main'],function(slidemode){\n",
      "    //     // do stuff\n",
      "     })\n",
      "\n",
      "});"
     ],
     "language": "python",
     "metadata": {
      "slideshow": {
       "slide_type": "-"
      }
     },
     "outputs": [
      {
       "output_type": "stream",
       "stream": "stdout",
       "text": [
        "Overwriting custom.js\n"
       ]
      }
     ],
     "prompt_number": 1
    },
    {
     "cell_type": "markdown",
     "metadata": {},
     "source": [
      "Restart your IPython Notebook session, and you will see a new button in the most-right-side of your toolbar. You can click the button to switch to presentation mode.\n",
      "\n",
      "Before switch to presentation mode, you should change your `Cell Toolbar` into Slideshow, so you can have the full control of your slide behavior (i.e: which one is slide and which one is subslide). Try to change your cells into `slide` and have fun.\n",
      "\n",
      "Now, you can do presentation without any need of `microsoft power point` or `libre office impress`. Cool :)"
     ]
    },
    {
     "cell_type": "code",
     "collapsed": false,
     "input": [],
     "language": "python",
     "metadata": {},
     "outputs": []
    }
   ],
   "metadata": {}
  }
 ]
}